{
 "cells": [
  {
   "cell_type": "code",
   "execution_count": 1,
   "id": "initial_id",
   "metadata": {
    "collapsed": true,
    "ExecuteTime": {
     "end_time": "2023-12-06T16:06:00.174418449Z",
     "start_time": "2023-12-06T16:06:00.166341312Z"
    }
   },
   "outputs": [
    {
     "name": "stdout",
     "output_type": "stream",
     "text": [
      "33\n"
     ]
    }
   ],
   "source": [
    "print(33)"
   ]
  },
  {
   "cell_type": "code",
   "execution_count": null,
   "outputs": [],
   "source": [
    "from PIL import Image"
   ],
   "metadata": {
    "collapsed": false
   },
   "id": "a7d6ca029f74e857"
  },
  {
   "cell_type": "code",
   "execution_count": 2,
   "outputs": [],
   "source": [
    "from PIL import Image\n",
    "import cv2\n",
    "import numpy as np"
   ],
   "metadata": {
    "collapsed": false,
    "ExecuteTime": {
     "end_time": "2023-12-06T16:10:30.011662096Z",
     "start_time": "2023-12-06T16:10:29.801670427Z"
    }
   },
   "id": "c892479850c36bf7"
  },
  {
   "cell_type": "code",
   "execution_count": 9,
   "outputs": [],
   "source": [
    "\n",
    "# Chemin vers l'image originale\n",
    "input_path = 'Imagetest.png'\n",
    "# Chemin où l'image améliorée sera sauvegardée\n",
    "output_path = 'Imagetest3.png'\n",
    "\n",
    "# Ouvrir l'image avec Pillow\n",
    "image = Image.open(input_path)\n",
    "\n",
    "# Redimensionner l'image, par exemple en la doublant en taille\n",
    "# Cela dépend de la résolution souhaitée; ajustez selon vos besoins\n",
    "image = image.resize((image.width * 1, image.height * 1), Image.Resampling.LANCZOS)\n",
    "\n",
    "# Convertir l'image en un tableau numpy pour le traitement avec OpenCV\n",
    "image_np = np.array(image)\n",
    "\n",
    "# Convertir l'image en gris (si nécessaire) pour le traitement OpenCV\n",
    "# gray_image_cv = cv2.cvtColor(image_np, cv2.COLOR_BGR2GRAY)\n",
    "\n",
    "# Appliquer un filtre de netteté avec OpenCV\n",
    "kernel = np.array([[0, -1, 0],\n",
    "                   [-1, 5, -1],\n",
    "                   [0, -1, 0]])\n",
    "\n",
    "sharp_image_cv = cv2.filter2D(image_np, -1, kernel)\n",
    "\n",
    "# Convertir l'image nette de retour en format Pillow\n",
    "sharp_image_pil = Image.fromarray(sharp_image_cv)\n",
    "\n",
    "# Sauvegarder l'image\n",
    "sharp_image_pil.save(output_path)\n"
   ],
   "metadata": {
    "collapsed": false,
    "ExecuteTime": {
     "end_time": "2023-12-06T16:16:31.376098271Z",
     "start_time": "2023-12-06T16:16:31.228555080Z"
    }
   },
   "id": "3ebdf008c9a83f0e"
  },
  {
   "cell_type": "code",
   "execution_count": null,
   "outputs": [],
   "source": [],
   "metadata": {
    "collapsed": false
   },
   "id": "df69705e77200c00"
  },
  {
   "cell_type": "code",
   "execution_count": null,
   "outputs": [],
   "source": [],
   "metadata": {
    "collapsed": false
   },
   "id": "9c85630de48f41eb"
  },
  {
   "cell_type": "code",
   "execution_count": null,
   "outputs": [],
   "source": [],
   "metadata": {
    "collapsed": false
   },
   "id": "dcdc3ba03d59d9c8"
  },
  {
   "cell_type": "code",
   "execution_count": null,
   "outputs": [],
   "source": [],
   "metadata": {
    "collapsed": false
   },
   "id": "33250d0811c88446"
  },
  {
   "cell_type": "code",
   "execution_count": null,
   "outputs": [],
   "source": [],
   "metadata": {
    "collapsed": false
   },
   "id": "c5a41b1a2e29a324"
  }
 ],
 "metadata": {
  "kernelspec": {
   "display_name": "Python 3",
   "language": "python",
   "name": "python3"
  },
  "language_info": {
   "codemirror_mode": {
    "name": "ipython",
    "version": 2
   },
   "file_extension": ".py",
   "mimetype": "text/x-python",
   "name": "python",
   "nbconvert_exporter": "python",
   "pygments_lexer": "ipython2",
   "version": "2.7.6"
  }
 },
 "nbformat": 4,
 "nbformat_minor": 5
}
